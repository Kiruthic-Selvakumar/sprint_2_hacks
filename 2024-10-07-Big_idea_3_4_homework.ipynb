{
 "cells": [
  {
   "cell_type": "raw",
   "metadata": {
    "vscode": {
     "languageId": "raw"
    }
   },
   "source": [
    "---\n",
    "layout: post\n",
    "title: 3.4 Homework and Popcorn Hacks\n",
    "description:  3.4 Homework and Popcorn Hacks\n",
    "type: issues\n",
    "comments: true\n",
    "---"
   ]
  },
  {
   "cell_type": "markdown",
   "metadata": {},
   "source": [
    "# Popcorn Hack #7"
   ]
  },
  {
   "cell_type": "code",
   "execution_count": 24,
   "metadata": {},
   "outputs": [
    {
     "name": "stdout",
     "output_type": "stream",
     "text": [
      "Twinkle (the title) is repeated 16 times\n",
      "The 50th word is 'the'\n",
      "This is the song with the verses switched: '\n",
      "How I wonder what you are\n",
      "Twinkle Twinkle Little Star\n",
      "How I wonder what you are\n",
      "Up above the world so high\n",
      "Like a diamond in the sky\n",
      "Twinkle Twinkle Little Star\n",
      "How I wonder what you are\n",
      "Twinkle Twinkle Little Star\n",
      "How I wonder what you are\n",
      "Up above the world so high\n",
      "Like a diamond in the sky \n",
      "Twinkle Twinkle Little Star\n",
      "How I wonder what you are \n",
      "Twinkle Twinkle Little Star\n",
      "How I wonder what you are\n",
      "Up above the world so high\n",
      "Like a diamond in the sky\n",
      "Twinkle Twinkle Little Star\n",
      "How I wonder what you are\n",
      "Twinkle Twinkle Little Star\n",
      "How I wonder what you are\n",
      "Up above the world so high\n",
      "Like a diamond in the sky \n",
      "Twinkle Twinkle Little Star\n",
      "How I wonder what you are'\n",
      "This is my new song: 'Up above the world so high, How I wonder what you are'\n"
     ]
    }
   ],
   "source": [
    "#Define a string of the song lyrics\n",
    "song = \"\"\"\n",
    "Hi this is my nursery rhyme:\n",
    "Twinkle Twinkle Little Star\n",
    "How I wonder what you are\n",
    "Up above the world so high\n",
    "Like a diamond in the sky\n",
    "Twinkle Twinkle Little Star\n",
    "How I wonder what you are\n",
    "Twinkle Twinkle Little Star\n",
    "How I wonder what you are\n",
    "Up above the world so high\n",
    "Like a diamond in the sky \n",
    "Twinkle Twinkle Little Star\n",
    "How I wonder what you are \n",
    "Twinkle Twinkle Little Star\n",
    "How I wonder what you are\n",
    "Up above the world so high\n",
    "Like a diamond in the sky\n",
    "Twinkle Twinkle Little Star\n",
    "How I wonder what you are\n",
    "Twinkle Twinkle Little Star\n",
    "How I wonder what you are\n",
    "Up above the world so high\n",
    "Like a diamond in the sky \n",
    "Twinkle Twinkle Little Star\n",
    "How I wonder what you are\"\"\"\n",
    "\n",
    "#Print the number of times the title is repeated in the lyrics\n",
    "title = \"twinkle\"\n",
    "num_title = song.lower().split().count(title)\n",
    "print(f\"Twinkle (the title) is repeated {num_title} times\")\n",
    "\n",
    "#Print the 50th word in the song\n",
    "indexFifty = song.split()[50]\n",
    "print(f\"The 50th word is '{indexFifty}'\")\n",
    "\n",
    "#Replace the first verse with the last verse and print\n",
    "song = song.replace(\"Hi this is my nursery rhyme:\", \"How I wonder what you are\" )\n",
    "print(f\"This is the song with the verses switched: '{song}'\")\n",
    "\n",
    "#Concat 2 verses and print to make new song\n",
    "newSong = \"Up above the world so high\" + \", \" + \"How I wonder what you are\"\n",
    "print(f\"This is my new song: '{newSong}'\")\n"
   ]
  },
  {
   "cell_type": "markdown",
   "metadata": {},
   "source": [
    "# Popcorn Hack #8"
   ]
  },
  {
   "cell_type": "code",
   "execution_count": 1,
   "metadata": {
    "vscode": {
     "languageId": "javascript"
    }
   },
   "outputs": [
    {
     "data": {
      "application/javascript": "animal = \"lion\";\nflower = \"sunflower\";\n\nlet newCreature = animal + flower;\n\nlet shortStory = 'In the jungle, suddenly the ${newCreature} appeared. It was a strange creature. The lion strangely stumbled on a ${flower}. Intrigued by its shinyness and vivid colors the lion leaped onto the ${flower} and began to eat it. All of a sudden, both the ${animal} and the ${flower} began to glow. The ${animal} and the ${flower} were now one. The ${newCreature} was born.';\nconsole.log(shortStory);\n",
      "text/plain": [
       "<IPython.core.display.Javascript object>"
      ]
     },
     "metadata": {},
     "output_type": "display_data"
    }
   ],
   "source": [
    "%%js\n",
    "animal = \"lion\";\n",
    "flower = \"sunflower\";\n",
    "\n",
    "let newCreature = animal + flower;\n",
    "\n",
    "let shortStory = 'In the jungle, suddenly the ${newCreature} appeared. It was a strange creature. The lion strangely stumbled on a ${flower}. Intrigued by its shinyness and vivid colors the lion leaped onto the ${flower} and began to eat it. All of a sudden, both the ${animal} and the ${flower} began to glow. The ${animal} and the ${flower} were now one. The ${newCreature} was born.';\n",
    "console.log(shortStory);"
   ]
  },
  {
   "cell_type": "markdown",
   "metadata": {},
   "source": [
    "# Homework Hack #3 (Text Analyzer)"
   ]
  },
  {
   "cell_type": "code",
   "execution_count": 30,
   "metadata": {},
   "outputs": [
    {
     "name": "stdout",
     "output_type": "stream",
     "text": [
      "I will analyze the text: hello my name is kiruthic\n",
      "There are 25 characters in the text\n",
      "The longest word is: kiruthic\n",
      "The reversed text is: cihturik si eman ym olleh\n",
      "The middle word is: name\n"
     ]
    }
   ],
   "source": [
    "#Take input of the text to analyze and split it into words\n",
    "text = input(\"Enter text to analyze: \")\n",
    "analyze_text = text.split()\n",
    "\n",
    "print(f\"I will analyze the text: {text}\")\n",
    "\n",
    "#Print the number of characters\n",
    "print(f\"There are {len(text)} characters in the text\")\n",
    "\n",
    "#Find the longest word by iterating through a list of words and changing the longest word variable every time a longer word is seen\n",
    "longest_word = \"\"\n",
    "for i in range (len(analyze_text)):\n",
    "    if len(analyze_text[i]) > len(longest_word):\n",
    "        longest_word = analyze_text[i]\n",
    "print(f\"The longest word is: {longest_word}\")\n",
    "\n",
    "#using splicing to print the string reversed\n",
    "reversed_text = text[::-1]\n",
    "print(f\"The reversed text is: {reversed_text}\")\n",
    "\n",
    "#use the array's index to find the middle word\n",
    "middle_world = analyze_text[len(analyze_text)//2]\n",
    "print(f\"The middle word is: {middle_world}\")"
   ]
  }
 ],
 "metadata": {
  "kernelspec": {
   "display_name": "venv",
   "language": "python",
   "name": "python3"
  },
  "language_info": {
   "codemirror_mode": {
    "name": "ipython",
    "version": 3
   },
   "file_extension": ".py",
   "mimetype": "text/x-python",
   "name": "python",
   "nbconvert_exporter": "python",
   "pygments_lexer": "ipython3",
   "version": "3.12.5"
  }
 },
 "nbformat": 4,
 "nbformat_minor": 2
}
