{
 "cells": [
  {
   "cell_type": "markdown",
   "metadata": {},
   "source": [
    "# Popcorn Hack #1"
   ]
  },
  {
   "cell_type": "code",
   "execution_count": 4,
   "metadata": {},
   "outputs": [
    {
     "name": "stdout",
     "output_type": "stream",
     "text": [
      "{1, 2, 3, 4, 5}\n",
      "{1, 2, 3, 4, 5, 6}\n",
      "{1, 3, 4, 5, 6}\n",
      "{1, 3, 4, 5, 6, 7, 8, 9}\n",
      "set()\n"
     ]
    }
   ],
   "source": [
    "set = {1, 2, 3, 4, 5}\n",
    "print(set)\n",
    "\n",
    "set.add(6)\n",
    "print(set)\n",
    "\n",
    "set.remove(2)\n",
    "print(set)\n",
    "\n",
    "set = set.union({7, 8, 9})\n",
    "print(set)\n",
    "\n",
    "set.clear()\n",
    "print(set)\n",
    "\n",
    "# bonus\n",
    "new_set = {1,2,2,3,3,4}\n",
    "print(len(new_set))\n"
   ]
  },
  {
   "cell_type": "markdown",
   "metadata": {},
   "source": [
    "# Popcorn Hack #2"
   ]
  },
  {
   "cell_type": "code",
   "execution_count": 13,
   "metadata": {},
   "outputs": [
    {
     "name": "stdout",
     "output_type": "stream",
     "text": [
      "Learning Python is not fun\n",
      "26\n",
      "Python\n",
      "LEARNING PYTHON IS NOT FUN\n",
      "Learning Python is not good\n",
      "nuf ton si nohtyP gninraeL\n"
     ]
    }
   ],
   "source": [
    "string = \"Learning Python is not fun\"\n",
    "print(string)\n",
    "\n",
    "length_of_string = len(string)\n",
    "print(length_of_string)\n",
    "\n",
    "sliced_string = string[9:15]\n",
    "print(sliced_string)\n",
    "\n",
    "uppercase_string = string.upper()\n",
    "print(uppercase_string)\n",
    "\n",
    "string_replace = string.replace(\"fun\", \"good\")\n",
    "print(string_replace)\n",
    "\n",
    "# reverse string using slicing bonus\n",
    "reverse_string = string[::-1]\n",
    "print(reverse_string)"
   ]
  },
  {
   "cell_type": "markdown",
   "metadata": {},
   "source": [
    "# Popcorn Hack #3"
   ]
  },
  {
   "cell_type": "code",
   "execution_count": 12,
   "metadata": {},
   "outputs": [
    {
     "name": "stdout",
     "output_type": "stream",
     "text": [
      "7\n",
      "[3, 6, 7, 9, 11]\n",
      "[3, 6, 7, 9, 11, 13]\n",
      "[3, 6, 7, 11, 13]\n",
      "[13, 11, 7, 6, 3]\n"
     ]
    }
   ],
   "source": [
    "list = [3,5,7,9,11]\n",
    "print(list[2])\n",
    "\n",
    "list[1]=6\n",
    "print(list)\n",
    "\n",
    "list.append(13)\n",
    "print(list)\n",
    "\n",
    "list.remove(9)\n",
    "print(list)\n",
    "\n",
    "# bonus, descending sort\n",
    "list.sort(reverse=True)\n",
    "print(list)"
   ]
  },
  {
   "cell_type": "markdown",
   "metadata": {},
   "source": [
    "# Popcorn Hack #4"
   ]
  },
  {
   "cell_type": "code",
   "execution_count": 18,
   "metadata": {},
   "outputs": [
    {
     "name": "stdout",
     "output_type": "stream",
     "text": [
      "{'name': 'Kiruthic Selvakumar', 'email': 'kiruthic.selvakumar@gmail.com', 'phone': '1234567890'}\n",
      "My name is Kiruthic Selvakumar\n",
      "3\n",
      "<class 'dict'>\n"
     ]
    }
   ],
   "source": [
    "personal_info = {\n",
    "    \"name\": \"Kiruthic Selvakumar\",\n",
    "    \"email\": \"kiruthic.selvakumar@gmail.com\",\n",
    "    \"phone\": \"1234567890\"\n",
    "}\n",
    "\n",
    "print(personal_info)\n",
    "\n",
    "print(\"My name is \" + personal_info[\"name\"])\n",
    "\n",
    "print(len(personal_info))\n",
    "\n",
    "print(type(personal_info))\n",
    "\n",
    "\n",
    "#bonus\n",
    "new_personal_info = {\n",
    "    \"name\": \"Hello\",\n",
    "    \"email\": \"Hi@gmai.com\",\n",
    "    \"phone\": \"567890\"\n",
    "}\n",
    "print(new_personal_info)"
   ]
  },
  {
   "cell_type": "markdown",
   "metadata": {},
   "source": [
    "# Homework Hack "
   ]
  },
  {
   "cell_type": "code",
   "execution_count": 20,
   "metadata": {},
   "outputs": [
    {
     "name": "stdout",
     "output_type": "stream",
     "text": [
      "{'full_name': 'Kiruthic Selvakumar', 'years': 15, 'location': 'San Diego', 'favorite_food': 'Pizza'}\n",
      "['Reading', 'Coding', 'Gaming']\n",
      "{'full_name': 'Kiruthic Selvakumar', 'years': 15, 'location': 'San Diego', 'favorite_food': 'Pizza', 'activities': ['Reading', 'Coding', 'Gaming']}\n",
      "Is gaming available today? True\n",
      "I have 3 activities.\n",
      "('Reading', 'Coding')\n",
      "{'Python', 'C', 'Java'}\n",
      "None\n",
      "45.0\n"
     ]
    }
   ],
   "source": [
    "#part 1\n",
    "personal_info = {\n",
    "    \"full_name\": \"Kiruthic Selvakumar\",\n",
    "    \"years\": 15,\n",
    "    \"location\": \"San Diego\",\n",
    "    \"favorite_food\": \"Pizza\"\n",
    "}\n",
    "\n",
    "print(personal_info)\n",
    "\n",
    "#part 2\n",
    "activities = [\"Reading\", \"Coding\", \"Gaming\"]\n",
    "print(activities)\n",
    "\n",
    "#part 3\n",
    "personal_info[\"activities\"] = activities\n",
    "print(personal_info)\n",
    "\n",
    "#part 4\n",
    "activity_available = True\n",
    "print(\"Is gaming available today? \" + str(activity_available))\n",
    "\n",
    "#part 5\n",
    "total_activities = len(activities)\n",
    "print(\"I have \" + str(total_activities) + \" activities.\")\n",
    "\n",
    "#part 6\n",
    "favorite_activities = (\"Reading\", \"Coding\")\n",
    "print(favorite_activities)\n",
    "\n",
    "#part 7\n",
    "skills = {\"Python\", \"Java\", \"C\"}\n",
    "print(skills)\n",
    "\n",
    "#part 8\n",
    "new_skill = None\n",
    "print(new_skill)\n",
    "\n",
    "#part 9 (float)\n",
    "total_cost = total_activities * 5.0 + len(skills) * 10.0\n",
    "print(total_cost)\n",
    "\n",
    "\n"
   ]
  },
  {
   "cell_type": "markdown",
   "metadata": {},
   "source": [
    "# Javascript Popcorn Hacks #1"
   ]
  },
  {
   "cell_type": "code",
   "execution_count": 22,
   "metadata": {
    "vscode": {
     "languageId": "javascript"
    }
   },
   "outputs": [
    {
     "data": {
      "application/javascript": "let set1 = [1, 2, 3];\nlet set2 = [4, 5, 6];\nconsole.log(set1);\nconsole.log(set2);\n\nset1.push(4);\nset1.shift();\n\nconsole.log(set1.concat(set2));\n",
      "text/plain": [
       "<IPython.core.display.Javascript object>"
      ]
     },
     "metadata": {},
     "output_type": "display_data"
    }
   ],
   "source": [
    "%%js\n",
    "let set1 = [1, 2, 3];\n",
    "let set2 = [4, 5, 6];\n",
    "console.log(set1);\n",
    "console.log(set2);\n",
    "\n",
    "set1.push(4);\n",
    "set1.shift();\n",
    "\n",
    "console.log(set1.concat(set2));"
   ]
  },
  {
   "cell_type": "markdown",
   "metadata": {},
   "source": [
    "# Javascript Popcorn Hack #2"
   ]
  },
  {
   "cell_type": "code",
   "execution_count": 25,
   "metadata": {
    "vscode": {
     "languageId": "javascript"
    }
   },
   "outputs": [
    {
     "data": {
      "application/javascript": "let application = {\n    name: 'Kiruthic',\n    age: 25,\n    experiences: ['Python', 'Javascript'],\n    money: 1000\n}\nconsole.log(application);\nconsole.log(application.money);\n",
      "text/plain": [
       "<IPython.core.display.Javascript object>"
      ]
     },
     "metadata": {},
     "output_type": "display_data"
    }
   ],
   "source": [
    "%%js\n",
    "let application = {\n",
    "    name: 'Kiruthic',\n",
    "    age: 25,\n",
    "    experiences: ['Python', 'Javascript'],\n",
    "    money: 1000\n",
    "}\n",
    "console.log(application);\n",
    "console.log(application.money);"
   ]
  },
  {
   "cell_type": "markdown",
   "metadata": {},
   "source": [
    "# Javascript Homework Hack"
   ]
  },
  {
   "cell_type": "code",
   "execution_count": 24,
   "metadata": {
    "vscode": {
     "languageId": "javascript"
    }
   },
   "outputs": [
    {
     "data": {
      "application/javascript": "let name = prompt(\"What is your name?\");\nlet age = prompt(\"What is your age?\");\nlet experiences = prompt(\"What is your experiences?\");\nlet application = {\n    name: name,\n    age: age,\n    experiences: experiences\n}\n\nconsole.log(application);\n",
      "text/plain": [
       "<IPython.core.display.Javascript object>"
      ]
     },
     "metadata": {},
     "output_type": "display_data"
    }
   ],
   "source": [
    "%%js\n",
    "let name = prompt(\"What is your name?\");\n",
    "let age = prompt(\"What is your age?\");\n",
    "let experiences = prompt(\"What is your experiences?\");\n",
    "let application = {\n",
    "    name: name,\n",
    "    age: age,\n",
    "    experiences: experiences\n",
    "}\n",
    "\n",
    "console.log(application);"
   ]
  }
 ],
 "metadata": {
  "kernelspec": {
   "display_name": "venv",
   "language": "python",
   "name": "python3"
  },
  "language_info": {
   "codemirror_mode": {
    "name": "ipython",
    "version": 3
   },
   "file_extension": ".py",
   "mimetype": "text/x-python",
   "name": "python",
   "nbconvert_exporter": "python",
   "pygments_lexer": "ipython3",
   "version": "3.12.5"
  }
 },
 "nbformat": 4,
 "nbformat_minor": 2
}
