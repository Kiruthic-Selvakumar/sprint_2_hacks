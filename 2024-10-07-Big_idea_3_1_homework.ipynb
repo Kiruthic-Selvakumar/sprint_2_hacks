{
 "cells": [
  {
   "cell_type": "raw",
   "metadata": {
    "vscode": {
     "languageId": "raw"
    }
   },
   "source": [
    "---\n",
    "layout: post\n",
    "title: 3.1 Homework and Popcorn Hacks\n",
    "description:  3.1 Homework and Popcorn Hacks\n",
    "type: issues\n",
    "comments: true\n",
    "---"
   ]
  },
  {
   "cell_type": "markdown",
   "metadata": {},
   "source": [
    "# Popcorn Hack #1"
   ]
  },
  {
   "cell_type": "code",
   "execution_count": 3,
   "metadata": {},
   "outputs": [
    {
     "name": "stdout",
     "output_type": "stream",
     "text": [
      "Kiruthic Anvay Yuva Rayhaan Pranav\n"
     ]
    }
   ],
   "source": [
    "team_member1 = \"Kiruthic\"\n",
    "team_member2 = \"Anvay\"\n",
    "team_member3 = \"Yuva\"\n",
    "team_member4 = \"Rayhaan\"\n",
    "team_member5 = \"Pranav\"\n",
    "\n",
    "print(team_member1, team_member2, team_member3, team_member4, team_member5)"
   ]
  },
  {
   "cell_type": "markdown",
   "metadata": {},
   "source": [
    "# Popcorn Hack #2"
   ]
  },
  {
   "cell_type": "code",
   "execution_count": 2,
   "metadata": {},
   "outputs": [
    {
     "name": "stdout",
     "output_type": "stream",
     "text": [
      "Apple is crunchy\n",
      "Banana is soft\n",
      "Orange is juicy\n",
      "Kiwi is tart\n",
      "Watermelon is sweet\n"
     ]
    }
   ],
   "source": [
    "fruit = {\n",
    "    \"apple\": \"crunchy\",\n",
    "    \"banana\": \"soft\",\n",
    "    \"orange\": \"juicy\",\n",
    "    \"kiwi\": \"tart\",\n",
    "    \"watermelon\": \"sweet\"\n",
    "}\n",
    "print(\"Apple is\", fruit[\"apple\"])\n",
    "print(\"Banana is\", fruit[\"banana\"])\n",
    "print(\"Orange is\", fruit[\"orange\"])\n",
    "print(\"Kiwi is\", fruit[\"kiwi\"])\n",
    "print(\"Watermelon is\", fruit[\"watermelon\"])"
   ]
  },
  {
   "cell_type": "markdown",
   "metadata": {},
   "source": [
    "# Popcorn Hack(bonus/extra) #3"
   ]
  },
  {
   "cell_type": "code",
   "execution_count": 3,
   "metadata": {
    "vscode": {
     "languageId": "javascript"
    }
   },
   "outputs": [
    {
     "data": {
      "application/javascript": "const mangoFeatures = {\n    color: \"yellow\",\n    taste: \"sweet\",\n    hasSeed: true,\n    weightPounds: 0.5,\n}\n\nmangoFeatures.weightPounds = 1.0;\n",
      "text/plain": [
       "<IPython.core.display.Javascript object>"
      ]
     },
     "metadata": {},
     "output_type": "display_data"
    }
   ],
   "source": [
    "%%js\n",
    "const mangoFeatures = {\n",
    "    color: \"yellow\",\n",
    "    taste: \"sweet\",\n",
    "    hasSeed: true,\n",
    "    weightPounds: 0.5,\n",
    "}\n",
    "\n",
    "mangoFeatures.weightPounds = 1.0;"
   ]
  },
  {
   "cell_type": "markdown",
   "metadata": {},
   "source": [
    "# Popcorn Hack #4"
   ]
  },
  {
   "cell_type": "code",
   "execution_count": 4,
   "metadata": {
    "vscode": {
     "languageId": "javascript"
    }
   },
   "outputs": [
    {
     "data": {
      "application/javascript": "let fruitsRanked = [1, \"apple\", 2, \"banana\", 3, \"mango\"];\n",
      "text/plain": [
       "<IPython.core.display.Javascript object>"
      ]
     },
     "metadata": {},
     "output_type": "display_data"
    }
   ],
   "source": [
    "%%js\n",
    "let fruitsRanked = [1, \"apple\", 2, \"banana\", 3, \"mango\"];"
   ]
  },
  {
   "cell_type": "markdown",
   "metadata": {},
   "source": [
    "# Homework Hack #1"
   ]
  },
  {
   "cell_type": "code",
   "execution_count": 7,
   "metadata": {
    "vscode": {
     "languageId": "javascript"
    }
   },
   "outputs": [
    {
     "data": {
      "application/javascript": "// Declaring constants and variables\nlet mango = \"Mangos are the best fruit.\";\nlet orange = \"Oranges are the second best fruit.\";\nlet strawberry = \"Strawberries are the third best fruit.\";\nconst apple = \"Apples are also a good fruit\";\n\n//define a function that prints the rankings of the fruit\nfunction fruitRanking(mango,orange,strawberry){\n    //log the ordered rankings of the fruit to the console\n    console.log(mango + \" \" + orange+ \" \" + strawberry + \" \" + apple);\n}\n\n//call the function with the fruit variables as parameters\nfruitRanking(mango,orange,strawberry);\n",
      "text/plain": [
       "<IPython.core.display.Javascript object>"
      ]
     },
     "metadata": {},
     "output_type": "display_data"
    }
   ],
   "source": [
    "%%js\n",
    "// Declaring constants and variables\n",
    "let mango = \"Mangos are the best fruit.\";\n",
    "let orange = \"Oranges are the second best fruit.\";\n",
    "let strawberry = \"Strawberries are the third best fruit.\";\n",
    "const apple = \"Apples are also a good fruit\";\n",
    "\n",
    "//define a function that prints the rankings of the fruit\n",
    "function fruitRanking(mango,orange,strawberry){\n",
    "    //log the ordered rankings of the fruit to the console\n",
    "    console.log(mango + \" \" + orange+ \" \" + strawberry + \" \" + apple);\n",
    "}\n",
    "\n",
    "//call the function with the fruit variables as parameters\n",
    "fruitRanking(mango,orange,strawberry);"
   ]
  },
  {
   "cell_type": "markdown",
   "metadata": {},
   "source": [
    "# Homework Hack #2"
   ]
  },
  {
   "cell_type": "code",
   "execution_count": 5,
   "metadata": {
    "vscode": {
     "languageId": "javascript"
    }
   },
   "outputs": [
    {
     "data": {
      "application/javascript": "//prompt the user for the number of grades they would like to average \nlet numberOfGrades = parseInt(prompt(\"How many grades would you like to average?\"), 10);\ngrades = 0;\n\n//define a function that averages the grades\nfunction gradeAverage(numberOfGrades, grades) {\n    //loop through the number of grades the user wants to average\n    for (let i = 0; i < numberOfGrades; i++) {\n        //prompt the user for a grade and add it to the total grades\n        let tempGrade = parseInt(prompt(\"Enter a grade: \"), 10);\n        grades += tempGrade;\n    }\n    //calculate the average grade & log it to the console\n    grades /= numberOfGrades;\n    console.log(\"The average grade is: \" + grades);\n}\n\n//call the function with the number of grades and grades as parameters\ngradeAverage(number0fGrades, grades);\n",
      "text/plain": [
       "<IPython.core.display.Javascript object>"
      ]
     },
     "metadata": {},
     "output_type": "display_data"
    }
   ],
   "source": [
    "%%js\n",
    "//prompt the user for the number of grades they would like to average \n",
    "let numberOfGrades = parseInt(prompt(\"How many grades would you like to average?\"), 10);\n",
    "grades = 0;\n",
    "\n",
    "//define a function that averages the grades\n",
    "function gradeAverage(numberOfGrades, grades) {\n",
    "    //loop through the number of grades the user wants to average\n",
    "    for (let i = 0; i < numberOfGrades; i++) {\n",
    "        //prompt the user for a grade and add it to the total grades\n",
    "        let tempGrade = parseInt(prompt(\"Enter a grade: \"), 10);\n",
    "        grades += tempGrade;\n",
    "    }\n",
    "    //calculate the average grade & log it to the console\n",
    "    grades /= numberOfGrades;\n",
    "    console.log(\"The average grade is: \" + grades);\n",
    "}\n",
    "\n",
    "//call the function with the number of grades and grades as parameters\n",
    "gradeAverage(number0fGrades, grades);"
   ]
  }
 ],
 "metadata": {
  "kernelspec": {
   "display_name": "venv",
   "language": "python",
   "name": "python3"
  },
  "language_info": {
   "codemirror_mode": {
    "name": "ipython",
    "version": 3
   },
   "file_extension": ".py",
   "mimetype": "text/x-python",
   "name": "python",
   "nbconvert_exporter": "python",
   "pygments_lexer": "ipython3",
   "version": "3.12.5"
  }
 },
 "nbformat": 4,
 "nbformat_minor": 2
}
