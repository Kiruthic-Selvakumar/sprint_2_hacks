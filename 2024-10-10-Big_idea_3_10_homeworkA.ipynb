{
 "cells": [
  {
   "cell_type": "raw",
   "metadata": {
    "vscode": {
     "languageId": "raw"
    }
   },
   "source": [
    "---\n",
    "layout: post\n",
    "title: 3.10 A Homework and Popcorn Hacks\n",
    "description:  3.10 A Homework and Popcorn Hacks\n",
    "type: issues\n",
    "comments: true\n",
    "---"
   ]
  },
  {
   "cell_type": "markdown",
   "metadata": {},
   "source": [
    "# Popcorn Hack #1"
   ]
  },
  {
   "cell_type": "code",
   "execution_count": 25,
   "metadata": {},
   "outputs": [
    {
     "name": "stdout",
     "output_type": "stream",
     "text": [
      "Your current shopping list is: ['oil']\n",
      "Your current shopping list is: ['oil', 'food']\n",
      "Your current shopping list is: ['oil', 'food', 'water']\n",
      "Your current shopping list is: ['oil', 'food', 'water', 'snacks']\n",
      "Your current shopping list is: ['oil', 'food', 'water', 'snacks', 'toothpaste']\n",
      "Your final shopping list is: ['oil', 'food', 'water', 'snacks', 'toothpaste']\n",
      "oil\n",
      "food\n",
      "water\n",
      "snacks\n",
      "toothpaste\n"
     ]
    }
   ],
   "source": [
    "def shopping_list():\n",
    "    # Create an empty list to store items\n",
    "    a_list = []\n",
    "\n",
    "    while True:\n",
    "        user_input = input(\"Enter an item you want to add to the shopping list (or 'q' to quit): \")\n",
    "\n",
    "        if user_input == 'q':\n",
    "            break\n",
    "\n",
    "        # TODO: Use the append operation to add the user input to the list\n",
    "        a_list.append(user_input)\n",
    "        # TODO: Print the current list after each append operation\n",
    "        print(f\"Your current shopping list is: {a_list}\")\n",
    "    # Final display of the shopping list\n",
    "    print(f\"Your final shopping list is: {a_list}\")\n",
    "    # TODO: Use a loop to display all the items in the list\n",
    "    for item in a_list:\n",
    "        print(item)\n",
    "\n",
    "shopping_list()"
   ]
  },
  {
   "cell_type": "markdown",
   "metadata": {},
   "source": [
    "# Popcorn Hack #1(Javascript Bonus)"
   ]
  },
  {
   "cell_type": "code",
   "execution_count": 23,
   "metadata": {
    "vscode": {
     "languageId": "javascript"
    }
   },
   "outputs": [
    {
     "data": {
      "application/javascript": "function shoppingList() {\n    // Create an empty array to store items\n    let aList = [];\n\n    while (true) {\n        let userInput = prompt(\"Enter an item you want to add to the shopping list (or 'q' to quit):\");\n\n        if (userInput === 'q') {\n            break;\n        }\n\n        // Append the user input to the array\n        aList.push(userInput);\n        // Print the current list after each append operation\n        console.log(`Your current shopping list is: ${aList}`);\n    }\n\n    // Final display of the shopping list\n    console.log(`Your final shopping list is: ${aList}`);\n    // Use a loop to display all the items in the list\n    for (let item of aList) {\n        console.log(item);\n    }\n}\n\nshoppingList();\n",
      "text/plain": [
       "<IPython.core.display.Javascript object>"
      ]
     },
     "metadata": {},
     "output_type": "display_data"
    }
   ],
   "source": [
    "%%js\n",
    "function shoppingList() {\n",
    "    // Create an empty array to store items\n",
    "    let aList = [];\n",
    "\n",
    "    while (true) {\n",
    "        let userInput = prompt(\"Enter an item you want to add to the shopping list (or 'q' to quit):\");\n",
    "\n",
    "        if (userInput === 'q') {\n",
    "            break;\n",
    "        }\n",
    "\n",
    "        // Append the user input to the array\n",
    "        aList.push(userInput);\n",
    "        // Print the current list after each append operation\n",
    "        console.log(`Your current shopping list is: ${aList}`);\n",
    "    }\n",
    "\n",
    "    // Final display of the shopping list\n",
    "    console.log(`Your final shopping list is: ${aList}`);\n",
    "    // Use a loop to display all the items in the list\n",
    "    for (let item of aList) {\n",
    "        console.log(item);\n",
    "    }\n",
    "}\n",
    "\n",
    "shoppingList();"
   ]
  },
  {
   "cell_type": "markdown",
   "metadata": {},
   "source": [
    "# Popcorn Hack: Accessing and Deleting Elements"
   ]
  },
  {
   "cell_type": "code",
   "execution_count": null,
   "metadata": {
    "vscode": {
     "languageId": "javascript"
    }
   },
   "outputs": [],
   "source": [
    "%%js\n",
    "// define an empty array\n",
    "let aList = [];\n",
    "\n",
    "// make a loop to get user input\n",
    "while (true) {\n",
    "    let user_input = prompt(\"Enter an item you want (or 'q' to quit):\");\n",
    "    if (user_input.toLowerCase() === 'q') {\n",
    "        break;\n",
    "    }\n",
    "\n",
    "    // append the user input to the array\n",
    "    aList.push(user_input);\n",
    "}\n",
    "// Display the full list\n",
    "console.log(\"This is the second element: \", aList[1]);\n",
    "\n",
    "// Delete the second element\n",
    "aList.splice(1, 1);\n",
    "\n",
    "// Display the list after deletion\n",
    "console.log(\"This is your new list: \", aList);"
   ]
  },
  {
   "cell_type": "markdown",
   "metadata": {},
   "source": [
    "# Popcorn Hack (Assigning Values to a List and Finding Its Length)"
   ]
  },
  {
   "cell_type": "code",
   "execution_count": 22,
   "metadata": {},
   "outputs": [
    {
     "name": "stdout",
     "output_type": "stream",
     "text": [
      "7\n"
     ]
    }
   ],
   "source": [
    "# list of favorite foods\n",
    "favorite_foods = ['pizza', 'noodles', 'sushi', 'chocolate', 'tacos']\n",
    "\n",
    "# add more foods to the list\n",
    "favorite_foods.append('ice cream')\n",
    "favorite_foods.append('cake')\n",
    "\n",
    "# print the length of the new favorite foods list\n",
    "print(len(favorite_foods))"
   ]
  },
  {
   "cell_type": "markdown",
   "metadata": {},
   "source": [
    "# Popcorn Hack (Sum of Even Numbers)"
   ]
  },
  {
   "cell_type": "code",
   "execution_count": 21,
   "metadata": {},
   "outputs": [
    {
     "name": "stdout",
     "output_type": "stream",
     "text": [
      "The sum of the even numbers in the list is: 30\n"
     ]
    }
   ],
   "source": [
    "# Define a list of integers\n",
    "nums = [1, 2, 3, 4, 5, 6, 7, 8, 9, 10]\n",
    "#start the sum at 0\n",
    "sum = 0  \n",
    "\n",
    "# Loop through the list of numbers\n",
    "for num in nums:\n",
    "    # Check if the number is even\n",
    "    if num % 2 == 0:\n",
    "       sum += num  \n",
    "\n",
    "print(f\"The sum of the even numbers in the list is: {sum}\",)"
   ]
  },
  {
   "cell_type": "markdown",
   "metadata": {},
   "source": [
    "# Popcorn Hack: Look for Banana"
   ]
  },
  {
   "cell_type": "code",
   "execution_count": 20,
   "metadata": {
    "vscode": {
     "languageId": "javascript"
    }
   },
   "outputs": [
    {
     "data": {
      "application/javascript": "\n// Create an array of fruits\nlet fruits = [\"apple\", \"banana\", \"orange\"];\n\n// Check if the array contains \"banana\"\nif (fruits.includes(\"banana\")) {\n    console.log(\"Banana is in the array\");\n}\nelse {\n    console.log(\"Banana is not in the array\");\n}\n",
      "text/plain": [
       "<IPython.core.display.Javascript object>"
      ]
     },
     "metadata": {},
     "output_type": "display_data"
    }
   ],
   "source": [
    "%%js\n",
    "\n",
    "// Create an array of fruits\n",
    "let fruits = [\"apple\", \"banana\", \"orange\"];\n",
    "\n",
    "// Check if the array contains \"banana\"\n",
    "if (fruits.includes(\"banana\")) {\n",
    "    console.log(\"Banana is in the array\");\n",
    "}\n",
    "else {\n",
    "    console.log(\"Banana is not in the array\");\n",
    "}"
   ]
  },
  {
   "cell_type": "markdown",
   "metadata": {},
   "source": [
    "# Popcorn Hack: Look for Banan(Python as a Bonus)"
   ]
  },
  {
   "cell_type": "code",
   "execution_count": 7,
   "metadata": {},
   "outputs": [
    {
     "name": "stdout",
     "output_type": "stream",
     "text": [
      "Banana is in the list\n"
     ]
    }
   ],
   "source": [
    "# Define a list with fruits\n",
    "fruits = [\"apple\", \"banana\", \"orange\"]\n",
    "\n",
    "# Check if \"banana\" is in the list\n",
    "if \"banana\" in fruits:\n",
    "    print(\"Banana is in the list\")\n",
    "else:\n",
    "    print(\"Banana is not in the list\")\n"
   ]
  },
  {
   "cell_type": "markdown",
   "metadata": {},
   "source": [
    "# Homework Hack #1"
   ]
  },
  {
   "cell_type": "code",
   "execution_count": 8,
   "metadata": {},
   "outputs": [
    {
     "name": "stdout",
     "output_type": "stream",
     "text": [
      "20\n"
     ]
    }
   ],
   "source": [
    "# Create a list of numbers\n",
    "list = []\n",
    "\n",
    "# Add numbers to the list\n",
    "for i in range (5):\n",
    "    list.append((i+1)*10)\n",
    "\n",
    "# Print the second element in the list\n",
    "print(list[1])"
   ]
  },
  {
   "cell_type": "markdown",
   "metadata": {},
   "source": [
    "# Homework Hack #2"
   ]
  },
  {
   "cell_type": "code",
   "execution_count": 19,
   "metadata": {
    "vscode": {
     "languageId": "javascript"
    }
   },
   "outputs": [
    {
     "data": {
      "application/javascript": "let list = [];\n\nfor (let i = 0; i < 5; i++) {\n    list.push(i*10);\n}\n\nconsole.log(list[1]);\n",
      "text/plain": [
       "<IPython.core.display.Javascript object>"
      ]
     },
     "metadata": {},
     "output_type": "display_data"
    }
   ],
   "source": [
    "%%js\n",
    "let list = [];\n",
    "\n",
    "for (let i = 0; i < 5; i++) {\n",
    "    list.push(i*10);\n",
    "}\n",
    "\n",
    "console.log(list[1]);"
   ]
  },
  {
   "cell_type": "markdown",
   "metadata": {},
   "source": [
    "# Homework Hack #3"
   ]
  },
  {
   "cell_type": "code",
   "execution_count": 14,
   "metadata": {},
   "outputs": [
    {
     "name": "stdout",
     "output_type": "stream",
     "text": [
      "To-Do List:\n",
      "1. wash dishes\n",
      "2. do laundry\n",
      "3. buy groceries\n",
      "4. take out trash\n",
      "Exiting the to-do list application.\n"
     ]
    }
   ],
   "source": [
    "to_do_list = [\"wash dishes\", \"do laundry\", \"buy groceries\", \"take out trash\"]\n",
    "\n",
    "while True:\n",
    "    user_input = input(\"Enter a command (add, remove, view, exit): \").strip().lower()\n",
    "    \n",
    "    if user_input == \"add\":\n",
    "        item = input(\"Enter the item to add: \").strip()\n",
    "        to_do_list.append(item)\n",
    "        print(f'Added \"{item}\" to the to-do list.')\n",
    "    \n",
    "    elif user_input == \"remove\":\n",
    "        item = input(\"Enter the item to remove: \").strip()\n",
    "        if item in to_do_list:\n",
    "            to_do_list.remove(item)\n",
    "            print(f'Removed \"{item}\" from the to-do list.')\n",
    "        else:\n",
    "            print(f'Item \"{item}\" not found in the to-do list.')\n",
    "    \n",
    "    elif user_input == \"view\":\n",
    "        print(\"To-Do List:\")\n",
    "        for i in range(len(to_do_list)):\n",
    "            print(f'{i+1}. {to_do_list[i]}')\n",
    "    \n",
    "    elif user_input == \"exit\":\n",
    "        print(\"Exiting the to-do list application.\")\n",
    "        break\n",
    "    \n",
    "    else:\n",
    "        print(\"Invalid command. Please try again.\")"
   ]
  },
  {
   "cell_type": "markdown",
   "metadata": {},
   "source": [
    "# Homework Hack #4"
   ]
  },
  {
   "cell_type": "code",
   "execution_count": 18,
   "metadata": {
    "vscode": {
     "languageId": "javascript"
    }
   },
   "outputs": [
    {
     "data": {
      "application/javascript": "let workouts = [];\n\nfunction logWorkout() {\n    let type = prompt(\"Enter workout type: \");\n    let duration = prompt(\"Enter duration (in minutes):\");\n    let calories = prompt(\"Enter calories burned:\");\n\n    if (type && duration && calories) {\n        workouts.push({ type, duration, calories });\n        alert(\"Workout logged successfully!\");\n    } else {\n        alert(\"All fields are required!\");\n    }\n}\n\nfunction viewWorkouts() {\n    if (workouts.length === 0) {\n        alert(\"No workouts logged yet.\");\n    } else {\n        let workoutList = \"Logged Workouts:\\n\";\n        workouts.forEach((workout, index) => {\n            workoutList += `${index + 1}. ${workout.type}: ${workout.duration} minutes, ${workout.calories} calories burned\\n`;\n        });\n        alert(workoutList);\n    }\n}\n\nfunction main() {\n    let running = true;\n\n    while (running) {\n        let action = prompt(\"Choose an action:\\n1. Log Workout\\n2. View Workouts\\n3. Exit\");\n\n        if (action === '1') {\n            logWorkout();\n        } else if (action === '2') {\n            viewWorkouts();\n        } else if (action === '3') {\n            running = false;\n            alert(\"Exiting the workout tracker. Goodbye!\");\n        } else {\n            alert(\"Invalid option. Please try again.\");\n        }\n    }\n}\n\nmain();\n",
      "text/plain": [
       "<IPython.core.display.Javascript object>"
      ]
     },
     "metadata": {},
     "output_type": "display_data"
    }
   ],
   "source": [
    "%%js\n",
    "let workouts = [];\n",
    "\n",
    "function logWorkout() {\n",
    "    let type = prompt(\"Enter workout type: \");\n",
    "    let duration = prompt(\"Enter duration (in minutes):\");\n",
    "    let calories = prompt(\"Enter calories burned:\");\n",
    "\n",
    "    if (type && duration && calories) {\n",
    "        workouts.push({ type, duration, calories });\n",
    "        alert(\"Workout logged successfully!\");\n",
    "    } else {\n",
    "        alert(\"All fields are required!\");\n",
    "    }\n",
    "}\n",
    "\n",
    "function viewWorkouts() {\n",
    "    if (workouts.length === 0) {\n",
    "        alert(\"No workouts logged yet.\");\n",
    "    } else {\n",
    "        let workoutList = \"Logged Workouts:\\n\";\n",
    "        workouts.forEach((workout, index) => {\n",
    "            workoutList += `${index + 1}. ${workout.type}: ${workout.duration} minutes, ${workout.calories} calories burned\\n`;\n",
    "        });\n",
    "        alert(workoutList);\n",
    "    }\n",
    "}\n",
    "\n",
    "function main() {\n",
    "    let running = true;\n",
    "\n",
    "    while (running) {\n",
    "        let action = prompt(\"Choose an action:\\n1. Log Workout\\n2. View Workouts\\n3. Exit\");\n",
    "\n",
    "        if (action === '1') {\n",
    "            logWorkout();\n",
    "        } else if (action === '2') {\n",
    "            viewWorkouts();\n",
    "        } else if (action === '3') {\n",
    "            running = false;\n",
    "            alert(\"Exiting the workout tracker. Goodbye!\");\n",
    "        } else {\n",
    "            alert(\"Invalid option. Please try again.\");\n",
    "        }\n",
    "    }\n",
    "}\n",
    "\n",
    "main();"
   ]
  }
 ],
 "metadata": {
  "kernelspec": {
   "display_name": "venv",
   "language": "python",
   "name": "python3"
  },
  "language_info": {
   "codemirror_mode": {
    "name": "ipython",
    "version": 3
   },
   "file_extension": ".py",
   "mimetype": "text/x-python",
   "name": "python",
   "nbconvert_exporter": "python",
   "pygments_lexer": "ipython3",
   "version": "3.12.5"
  }
 },
 "nbformat": 4,
 "nbformat_minor": 2
}
