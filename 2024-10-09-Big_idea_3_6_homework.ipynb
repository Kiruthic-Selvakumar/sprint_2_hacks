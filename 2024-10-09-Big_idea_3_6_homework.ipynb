{
 "cells": [
  {
   "cell_type": "raw",
   "metadata": {
    "vscode": {
     "languageId": "raw"
    }
   },
   "source": [
    "---\n",
    "layout: post\n",
    "title: 3.6 Homework and Popcorn Hacks\n",
    "description:  3.6 Homework and Popcorn Hacks\n",
    "type: issues\n",
    "comments: true\n",
    "---"
   ]
  },
  {
   "cell_type": "markdown",
   "metadata": {},
   "source": [
    "# Popcorn Hack #1"
   ]
  },
  {
   "cell_type": "code",
   "execution_count": 4,
   "metadata": {},
   "outputs": [
    {
     "name": "stdout",
     "output_type": "stream",
     "text": [
      "its freezing\n"
     ]
    }
   ],
   "source": [
    "'''\n",
    "I modified the code by adding temperature ranges such as warm and freezing\n",
    "I did this by adding more elif/else statements with conditionals that check if the temperature is within a certain range\n",
    "'''\n",
    "\n",
    "\n",
    "# Step 1: Add a variable that represents temperature\n",
    "temperature = 27  # You can change this value to test different conditions\n",
    "\n",
    "# Step 2: Check if it’s a hot day\n",
    "if temperature >= 80:\n",
    "    print(\"It's a hot day\")\n",
    "# Step 3: Otherwise, check if it’s a warm day\n",
    "elif temperature >=60:\n",
    "    print(\"It's a warm day\")\n",
    "# Step 4: Otherwise, check if it’s a cold day\n",
    "elif temperature >= 32:\n",
    "    print(\"It's a cold day\")\n",
    "# Step 5: Otherwise, print it’s freezing\n",
    "else:\n",
    "    print(\"its freezing\")"
   ]
  },
  {
   "cell_type": "markdown",
   "metadata": {},
   "source": [
    "# Popcorn Hack #2(3.6.2)"
   ]
  },
  {
   "cell_type": "code",
   "execution_count": 1,
   "metadata": {
    "vscode": {
     "languageId": "javascript"
    }
   },
   "outputs": [
    {
     "data": {
      "application/javascript": "// defined a variable called score and assigned it a value of 85\nlet score = 95;\n\n// if the score is greater than or equal to 60, print \"You passed!\"\nif (score >= 60) {\n    console.log(\"You passed!\");\n}\n// else if the score is less than 60, print \"You failed!\"\nelse if (score < 60) {\n    console.log(\"You failed!\");\n}\n",
      "text/plain": [
       "<IPython.core.display.Javascript object>"
      ]
     },
     "metadata": {},
     "output_type": "display_data"
    }
   ],
   "source": [
    "%%js\n",
    "// defined a variable called score and assigned it a value of 85\n",
    "let score = 95;\n",
    "\n",
    "// if the score is greater than or equal to 60, print \"You passed!\"\n",
    "if (score >= 60) {\n",
    "    console.log(\"You passed!\");\n",
    "}\n",
    "// else if the score is less than 60, print \"You failed!\"\n",
    "else if (score < 60) {\n",
    "    console.log(\"You failed!\");\n",
    "}"
   ]
  },
  {
   "cell_type": "markdown",
   "metadata": {},
   "source": [
    "# Homework Hack 1"
   ]
  },
  {
   "cell_type": "code",
   "execution_count": 17,
   "metadata": {},
   "outputs": [
    {
     "data": {
      "text/plain": [
       "'Odd'"
      ]
     },
     "execution_count": 17,
     "metadata": {},
     "output_type": "execute_result"
    }
   ],
   "source": [
    "# take an integer as input\n",
    "number = int(input(\"Enter a number: \"))\n",
    "\n",
    "# check if the number is odd or even\n",
    "def check_odd_even(number):\n",
    "    if number % 2 == 0:\n",
    "        return \"Even\"\n",
    "    else:\n",
    "        return \"Odd\"\n",
    "\n",
    "# call the function with the number as a parameter\n",
    "check_odd_even(number)"
   ]
  },
  {
   "cell_type": "markdown",
   "metadata": {},
   "source": [
    "# Homework Hack 2"
   ]
  },
  {
   "cell_type": "code",
   "execution_count": 21,
   "metadata": {},
   "outputs": [
    {
     "data": {
      "text/plain": [
       "'Leap Year'"
      ]
     },
     "execution_count": 21,
     "metadata": {},
     "output_type": "execute_result"
    }
   ],
   "source": [
    "# take a year as input\n",
    "year = int(input(\"Enter a year: \"))\n",
    "\n",
    "# check if the year is a leap year\n",
    "def is_leap_year(year):\n",
    "    if year % 4 == 0 and year %100 != 0:\n",
    "        return \"Leap Year\"\n",
    "    elif year % 400 == 0:\n",
    "        return \"Leap Year\"\n",
    "    else: \n",
    "        return \"Not a Leap Year\"\n",
    "\n",
    "# call the function with the year as a parameter\n",
    "is_leap_year(year)"
   ]
  },
  {
   "cell_type": "markdown",
   "metadata": {},
   "source": [
    "# Homework Hack 3"
   ]
  },
  {
   "cell_type": "code",
   "execution_count": 29,
   "metadata": {},
   "outputs": [
    {
     "data": {
      "text/plain": [
       "'Warm'"
      ]
     },
     "execution_count": 29,
     "metadata": {},
     "output_type": "execute_result"
    }
   ],
   "source": [
    "# take temperature as an input\n",
    "temp = int(input(\"Enter a temperature: \"))\n",
    "\n",
    "# check if a temperature is cold, warm, or hot\n",
    "def temperature_range(temp):\n",
    "    if temp < 60:\n",
    "        return \"Cold\"\n",
    "    elif temp <= 80:\n",
    "        return \"Warm\"\n",
    "    else: \n",
    "        return \"Hot\"\n",
    "\n",
    "# call the function with the year as a parameter\n",
    "temperature_range(temp)"
   ]
  },
  {
   "cell_type": "markdown",
   "metadata": {},
   "source": [
    "# Homework Hack #1"
   ]
  },
  {
   "cell_type": "code",
   "execution_count": 1,
   "metadata": {
    "vscode": {
     "languageId": "javascript"
    }
   },
   "outputs": [
    {
     "data": {
      "application/javascript": "// define a variable for age\nlet age = 17;\n\n// define a function that checks if someone can vote\nfunction checkVotingEligibility(age) {\n    // if the age is greater than or equal to 18 they can vote\n    if (age >= 18) {\n        console.log(\"You are eligible to vote!\");\n    }\n    // else they cannot vote\n    else {\n        console.log(\"You are not eligible to vote!\");\n    }\n}\n\n\n// call the function with age as a parameter\ncheckVotingEligibility(age);\n",
      "text/plain": [
       "<IPython.core.display.Javascript object>"
      ]
     },
     "metadata": {},
     "output_type": "display_data"
    }
   ],
   "source": [
    "%%js\n",
    "// define a variable for age\n",
    "let age = 17;\n",
    "\n",
    "// define a function that checks if someone can vote\n",
    "function checkVotingEligibility(age) {\n",
    "    // if the age is greater than or equal to 18 they can vote\n",
    "    if (age >= 18) {\n",
    "        console.log(\"You are eligible to vote!\");\n",
    "    }\n",
    "    // else they cannot vote\n",
    "    else {\n",
    "        console.log(\"You are not eligible to vote!\");\n",
    "    }\n",
    "}\n",
    "\n",
    "\n",
    "// call the function with age as a parameter\n",
    "checkVotingEligibility(age);"
   ]
  },
  {
   "cell_type": "markdown",
   "metadata": {},
   "source": [
    "# Homework Hack #2"
   ]
  },
  {
   "cell_type": "code",
   "execution_count": 2,
   "metadata": {
    "vscode": {
     "languageId": "javascript"
    }
   },
   "outputs": [
    {
     "data": {
      "application/javascript": "// define a variable for score\nlet score = 17;\n\n// define a function that tells you your letter grade\nfunction getGrade(score) {\n    // if the score is 90 or above it is an A\n    if (score >= 90) {\n        console.log(\"Grade: A\");\n    }\n    // otherwise if the score is 80 or above it is a B\n    else if (score >= 80) {\n        console.log(\"Grade: B\");\n    }\n    // otherwise if the score is 70 or above it is a C\n    else if (score >= 70) {\n        console.log(\"Grade: C\");\n    }\n    // otherwise it is an F\n    else {\n        console.log(\"Grade: F\");\n    }\n}\n\n\n// call the function with score as a parameter\ngetGrade(score);\n",
      "text/plain": [
       "<IPython.core.display.Javascript object>"
      ]
     },
     "metadata": {},
     "output_type": "display_data"
    }
   ],
   "source": [
    "%%js\n",
    "// define a variable for score\n",
    "let score = 17;\n",
    "\n",
    "// define a function that tells you your letter grade\n",
    "function getGrade(score) {\n",
    "    // if the score is 90 or above it is an A\n",
    "    if (score >= 90) {\n",
    "        console.log(\"Grade: A\");\n",
    "    }\n",
    "    // otherwise if the score is 80 or above it is a B\n",
    "    else if (score >= 80) {\n",
    "        console.log(\"Grade: B\");\n",
    "    }\n",
    "    // otherwise if the score is 70 or above it is a C\n",
    "    else if (score >= 70) {\n",
    "        console.log(\"Grade: C\");\n",
    "    }\n",
    "    // otherwise it is an F\n",
    "    else {\n",
    "        console.log(\"Grade: F\");\n",
    "    }\n",
    "}\n",
    "\n",
    "\n",
    "// call the function with score as a parameter\n",
    "getGrade(score);"
   ]
  },
  {
   "cell_type": "markdown",
   "metadata": {},
   "source": [
    "# Homework Hack #3"
   ]
  },
  {
   "cell_type": "code",
   "execution_count": null,
   "metadata": {
    "vscode": {
     "languageId": "javascript"
    }
   },
   "outputs": [],
   "source": [
    "%%js\n",
    "// define a variable for the temperature and what scale it is in\n",
    "let value = 17;\n",
    "let scale = \"C\";\n",
    "\n",
    "// define a function that converts the temperature to a different scale\n",
    "function convertTemperature(value, scale) {\n",
    "    // if the scale is \"C\" convert to F\n",
    "    if (scale == \"C\") {\n",
    "        value = (value * 9/5) + 32;\n",
    "        console.log(value + \"°F\");\n",
    "    }\n",
    "    // otherwise if the scale is \"F\" convert to C\n",
    "    else if (scale == \"F\") {\n",
    "        value = (value - 32) * 5/9\n",
    "        console.log(value + \"°C\");\n",
    "    }\n",
    "    // otherwise the scale is invalid\n",
    "    else {\n",
    "        console.log(\"invalid scale\");\n",
    "    }\n",
    "}\n",
    "\n",
    "\n",
    "//call the function with scale and value as parameters\n",
    "convertTemperature(value, scale);"
   ]
  }
 ],
 "metadata": {
  "kernelspec": {
   "display_name": "venv",
   "language": "python",
   "name": "python3"
  },
  "language_info": {
   "codemirror_mode": {
    "name": "ipython",
    "version": 3
   },
   "file_extension": ".py",
   "mimetype": "text/x-python",
   "name": "python",
   "nbconvert_exporter": "python",
   "pygments_lexer": "ipython3",
   "version": "3.12.5"
  }
 },
 "nbformat": 4,
 "nbformat_minor": 2
}
