{
 "cells": [
  {
   "cell_type": "markdown",
   "metadata": {},
   "source": [
    "# Popcorn Hack"
   ]
  },
  {
   "cell_type": "code",
   "execution_count": 1,
   "metadata": {
    "vscode": {
     "languageId": "javascript"
    }
   },
   "outputs": [
    {
     "data": {
      "application/javascript": "// define a array of fruits\nlet fruits = ['apple', 'banana', 'cherry', 'orange', 'kiwi', 'melon', 'mango'];\n\n// reverse the array\nfruits.reverse();\n\n// print the reversed array\nconsole.log(fruits);\n",
      "text/plain": [
       "<IPython.core.display.Javascript object>"
      ]
     },
     "metadata": {},
     "output_type": "display_data"
    }
   ],
   "source": [
    "%%js\n",
    "// define a array of fruits\n",
    "let fruits = ['apple', 'banana', 'cherry', 'orange', 'kiwi', 'melon', 'mango'];\n",
    "\n",
    "// reverse the array\n",
    "fruits.reverse();\n",
    "\n",
    "// print the reversed array\n",
    "console.log(fruits);"
   ]
  },
  {
   "cell_type": "markdown",
   "metadata": {},
   "source": [
    "# Popcorn Hack"
   ]
  },
  {
   "cell_type": "code",
   "execution_count": 2,
   "metadata": {
    "vscode": {
     "languageId": "javascript"
    }
   },
   "outputs": [
    {
     "data": {
      "application/javascript": "// define a array of fruits\nlet ogfruits = ['apple', 'banana', 'cherry', 'orange', 'kiwi', 'melon', 'mango'];\nlet newFruits = [\"watermelon\", \"grape\", \"strawberry\", \"blueberry\", \"peach\", \"pear\", \"plum\"];\n\n// add the newFruits array to the ogFruits array using the spread operator\nogFruits.push(...newFruits);\nconsole.log(ogFruits);\n\n// add the ogFruits array to the newFruits array using the unshift method\nnewFruits.unshift(ogFruits);\n",
      "text/plain": [
       "<IPython.core.display.Javascript object>"
      ]
     },
     "metadata": {},
     "output_type": "display_data"
    }
   ],
   "source": [
    "%%js\n",
    "// define a array of fruits\n",
    "let ogfruits = ['apple', 'banana', 'cherry', 'orange', 'kiwi', 'melon', 'mango'];\n",
    "let newFruits = [\"watermelon\", \"grape\", \"strawberry\", \"blueberry\", \"peach\", \"pear\", \"plum\"];\n",
    "\n",
    "// add the newFruits array to the ogFruits array using the spread operator\n",
    "ogFruits.push(...newFruits);\n",
    "console.log(ogFruits);\n",
    "\n",
    "// add the ogFruits array to the newFruits array using the unshift method\n",
    "newFruits.unshift(ogFruits);"
   ]
  },
  {
   "cell_type": "markdown",
   "metadata": {},
   "source": [
    "# Popcorn Hack"
   ]
  },
  {
   "cell_type": "code",
   "execution_count": 3,
   "metadata": {
    "vscode": {
     "languageId": "javascript"
    }
   },
   "outputs": [
    {
     "data": {
      "application/javascript": "// define a array of fruits\nvar fruitNames = [\"apple\", \"banana\", \"cherry\", \"orange\", \"kiwi\", \"melon\", \"mango\"];\n\n// filter the array to only include fruits with names longer than 5 characters\nvar longNames = fruitsNames.filter(fruitnames => fruitnames.length > 5);\n\n// print the longNames array\nconsole.log(longNames);\n",
      "text/plain": [
       "<IPython.core.display.Javascript object>"
      ]
     },
     "metadata": {},
     "output_type": "display_data"
    }
   ],
   "source": [
    "%%js \n",
    "// define a array of fruits\n",
    "var fruitNames = [\"apple\", \"banana\", \"cherry\", \"orange\", \"kiwi\", \"melon\", \"mango\"];\n",
    "\n",
    "// filter the array to only include fruits with names longer than 5 characters\n",
    "var longNames = fruitsNames.filter(fruitnames => fruitnames.length > 5);\n",
    "\n",
    "// print the longNames array\n",
    "console.log(longNames);"
   ]
  },
  {
   "cell_type": "markdown",
   "metadata": {},
   "source": [
    "# Popcorn Hack"
   ]
  },
  {
   "cell_type": "code",
   "execution_count": 4,
   "metadata": {},
   "outputs": [
    {
     "name": "stdout",
     "output_type": "stream",
     "text": [
      "[10, 50, 30, 29, 100, 28]\n"
     ]
    }
   ],
   "source": [
    "# define a list of integers\n",
    "list = [10,50,30,29,28]\n",
    "\n",
    "# insert 100 at the second to last of the list\n",
    "list.insert(-1, 100)\n",
    "\n",
    "# print the list\n",
    "print(list)"
   ]
  },
  {
   "cell_type": "markdown",
   "metadata": {},
   "source": [
    "# Popcorn"
   ]
  },
  {
   "cell_type": "code",
   "execution_count": 5,
   "metadata": {},
   "outputs": [
    {
     "name": "stdout",
     "output_type": "stream",
     "text": [
      "['John', 'Paul', 'George', 'Ringo', 'Pete', 'Stuart']\n"
     ]
    }
   ],
   "source": [
    "# define 2 lists of names\n",
    "names = ['John', 'Paul', 'George', 'Ringo']\n",
    "more_names = ['Pete', 'Stuart']\n",
    "\n",
    "# extend the first list with the second list\n",
    "names.extend(more_names)\n",
    "\n",
    "# print the first list\n",
    "print(names)"
   ]
  },
  {
   "cell_type": "markdown",
   "metadata": {},
   "source": [
    "# Popcorn"
   ]
  },
  {
   "cell_type": "code",
   "execution_count": 6,
   "metadata": {},
   "outputs": [
    {
     "name": "stdout",
     "output_type": "stream",
     "text": [
      "[10, 30]\n"
     ]
    }
   ],
   "source": [
    "# define a list of integers\n",
    "list = [10,50,30,29,28]\n",
    "\n",
    "# use 3 different methods to remove 3 items\n",
    "del list[1]\n",
    "list.remove(29)\n",
    "list.pop()\n",
    "\n",
    "\n",
    "# print the list\n",
    "print(list)"
   ]
  },
  {
   "cell_type": "markdown",
   "metadata": {},
   "source": [
    "# Main Hack"
   ]
  },
  {
   "cell_type": "code",
   "execution_count": 7,
   "metadata": {},
   "outputs": [
    {
     "name": "stdout",
     "output_type": "stream",
     "text": [
      "Current grocery list: ['vegetables', 'fruits', 'snacks']\n",
      "Sorted grocery list: ['fruits', 'snacks', 'vegetables']\n",
      "toothpaste is not in the list.\n",
      "Updated grocery list: ['fruits', 'snacks', 'vegetables']\n"
     ]
    }
   ],
   "source": [
    "# Create an empty list to store grocery items\n",
    "grocery_list = []\n",
    "\n",
    "# Input three grocery items and add them to the list\n",
    "for i in range(3):\n",
    "    item = input(f\"Enter grocery item {i + 1}: \")\n",
    "    grocery_list.append(item)\n",
    "\n",
    "# Display the current grocery list\n",
    "print(\"Current grocery list:\", grocery_list)\n",
    "\n",
    "# Sort the list alphabetically and print the sorted list\n",
    "grocery_list.sort()\n",
    "print(\"Sorted grocery list:\", grocery_list)\n",
    "\n",
    "# Remove one item specified by the user\n",
    "item_to_remove = input(\"Enter an item to remove from the list: \")\n",
    "if item_to_remove in grocery_list:\n",
    "    grocery_list.remove(item_to_remove)\n",
    "else:\n",
    "    print(f\"{item_to_remove} is not in the list.\")\n",
    "\n",
    "# Display the updated list\n",
    "print(\"Updated grocery list:\", grocery_list)"
   ]
  },
  {
   "cell_type": "markdown",
   "metadata": {},
   "source": [
    "# Main Hack"
   ]
  },
  {
   "cell_type": "code",
   "execution_count": 8,
   "metadata": {},
   "outputs": [
    {
     "name": "stdout",
     "output_type": "stream",
     "text": [
      "Original list: [1, 2, 3, 4, 5, 6, 7, 8, 9, 10, 11, 12, 13, 14, 15, 16, 17, 18, 19, 20]\n",
      "Even numbers: [2, 4, 6, 8, 10, 12, 14, 16, 18, 20]\n"
     ]
    }
   ],
   "source": [
    "# Create a list of integers from 1 to 20\n",
    "list = []\n",
    "for i in range(20):\n",
    "    list.append(i + 1)\n",
    "\n",
    "# Print the original list\n",
    "print(\"Original list:\", list)\n",
    "\n",
    "# Create a new list containing only the even numbers using list comprehension\n",
    "even_numbers = [num for num in list if num % 2 == 0]\n",
    "\n",
    "# Print the list of even numbers\n",
    "print(\"Even numbers:\", even_numbers)"
   ]
  },
  {
   "cell_type": "markdown",
   "metadata": {},
   "source": [
    "# Main Hack"
   ]
  },
  {
   "cell_type": "code",
   "execution_count": 10,
   "metadata": {},
   "outputs": [
    {
     "name": "stdout",
     "output_type": "stream",
     "text": [
      "List of grades: [70, 80, 54]\n",
      "Grades above 60: [70, 80]\n"
     ]
    }
   ],
   "source": [
    "# Create an empty list\n",
    "grades = []\n",
    "\n",
    "# Input three grades\n",
    "for i in range(3):\n",
    "    grade = int(input(\"Enter a grade: \"))\n",
    "    grades.append(grade)\n",
    "\n",
    "# Print the list of grades\n",
    "print(\"List of grades:\", grades)\n",
    "passing_grade = []\n",
    "\n",
    "\n",
    "for i in range(3):\n",
    "    if grades[i] > 60:\n",
    "        passing_grade.append(grades[i])\n",
    "\n",
    "\n",
    "# Print the list of passing grades\n",
    "print(\"Grades above 60:\", passing_grade)"
   ]
  },
  {
   "cell_type": "markdown",
   "metadata": {},
   "source": [
    "# Main Hack"
   ]
  },
  {
   "cell_type": "code",
   "execution_count": 20,
   "metadata": {},
   "outputs": [
    {
     "name": "stdout",
     "output_type": "stream",
     "text": [
      "Original List:  [1, 2, 3, 4, 5, 6, 7, 8, 9, 10]\n",
      "Descending order list:  [10, 9, 8, 7, 6, 5, 4, 3, 2, 1]\n",
      "Sliced List: [1, 2, 3, 4, 5]\n",
      "Sorted list: [1, 2, 3, 4, 5, 6, 7, 8, 9, 10]\n"
     ]
    }
   ],
   "source": [
    "numbers = [1,2,3,4,5,6,7,8,9,10]\n",
    "print(\"Original List: \",numbers)\n",
    "\n",
    "descending_numbers = sorted(numbers, reverse=True)\n",
    "print(\"Descending order list: \",descending_numbers)\n",
    "\n",
    "sliced_numbers = numbers[:5]\n",
    "print(\"Sliced List:\", sliced_numbers)\n",
    "\n",
    "numbers = sorted(numbers, reverse=False)\n",
    "print(\"Sorted list:\", numbers)\n",
    "\n"
   ]
  },
  {
   "cell_type": "markdown",
   "metadata": {},
   "source": [
    "# Main Hack"
   ]
  },
  {
   "cell_type": "code",
   "execution_count": null,
   "metadata": {
    "vscode": {
     "languageId": "javascript"
    }
   },
   "outputs": [],
   "source": [
    "%%js\n",
    "let array = [1, 2, 3, 4, 5];\n",
    "\n",
    "// Print the original array\n",
    "console.log(\"Original array:\", array);\n",
    "\n",
    "// Reverse the array\n",
    "array.reverse();\n",
    "\n",
    "// Print the reversed array\n",
    "console.log(\"Reversed array:\", array);"
   ]
  },
  {
   "cell_type": "markdown",
   "metadata": {},
   "source": [
    "# Main Hack"
   ]
  },
  {
   "cell_type": "code",
   "execution_count": 21,
   "metadata": {
    "vscode": {
     "languageId": "javascript"
    }
   },
   "outputs": [
    {
     "data": {
      "application/javascript": "let sports = [\"soccer\", \"football\", \"basketball\", \"wrestling\", \"swimming\"];\nconsole.log(sports[0])\nconsole.log(sports[3])\n",
      "text/plain": [
       "<IPython.core.display.Javascript object>"
      ]
     },
     "metadata": {},
     "output_type": "display_data"
    }
   ],
   "source": [
    "%%js\n",
    "let sports = [\"soccer\", \"football\", \"basketball\", \"wrestling\", \"swimming\"];\n",
    "console.log(sports[0])\n",
    "console.log(sports[3])"
   ]
  },
  {
   "cell_type": "markdown",
   "metadata": {},
   "source": [
    "# Main Hack"
   ]
  },
  {
   "cell_type": "code",
   "execution_count": null,
   "metadata": {
    "vscode": {
     "languageId": "javascript"
    }
   },
   "outputs": [],
   "source": [
    "%%js\n",
    "// create list\n",
    "let choresList = [\"Laundry\", \"Dishes\", \"Vacuum\", \"Grocery Shopping\"];\n",
    "\n",
    "console.log(\"Initial chores list:\", choresList);\n",
    "\n",
    "// Use push() to add an ite\n",
    "choresList.push(\"Clean the bathroom\");\n",
    "console.log(\"After push:\", choresList);\n",
    "\n",
    "// Use shift() to remove\n",
    "choresList.shift();\n",
    "console.log(\"After shift:\", choresList);\n",
    "\n",
    "// Use pop() to remove the last item\n",
    "choresList.pop();\n",
    "console.log(\"After pop:\", choresList);\n",
    "\n",
    "// Use unshift() to add an item\n",
    "choresList.unshift(\"Dusting\");\n",
    "console.log(\"After unshift:\", choresList);"
   ]
  },
  {
   "cell_type": "markdown",
   "metadata": {},
   "source": [
    "# Main Hack"
   ]
  },
  {
   "cell_type": "code",
   "execution_count": 22,
   "metadata": {
    "vscode": {
     "languageId": "javascript"
    }
   },
   "outputs": [
    {
     "data": {
      "application/javascript": "\n// Create an array\nlet randomNumbers = [3, 6, 7, 2, 9, 12, 5, 4, 1, 8];\n\nconsole.log(\"Random numbers:\", randomNumbers);\n\n// Function to count even numbers\nfunction countEvenNumbers(arr) {\n    let count = 0; \n\n    // Iterate through the array\n    for (let i = 0; i < arr.length; i++) {\n        if (arr[i] % 2 === 0) {\n            count++;\n        }\n    }\n    \n    console.log(count); // Return the final count\n}\n\n// Call the function and display the output\ncountEvenNumbers(randomNumbers);\n",
      "text/plain": [
       "<IPython.core.display.Javascript object>"
      ]
     },
     "metadata": {},
     "output_type": "display_data"
    }
   ],
   "source": [
    "%%js \n",
    "\n",
    "// Create an array\n",
    "let randomNumbers = [3, 6, 7, 2, 9, 12, 5, 4, 1, 8];\n",
    "\n",
    "console.log(\"Random numbers:\", randomNumbers);\n",
    "\n",
    "// Function to count even numbers\n",
    "function countEvenNumbers(arr) {\n",
    "    let count = 0; \n",
    "\n",
    "    // Iterate through the array\n",
    "    for (let i = 0; i < arr.length; i++) {\n",
    "        if (arr[i] % 2 === 0) {\n",
    "            count++;\n",
    "        }\n",
    "    }\n",
    "    \n",
    "    console.log(count); // Return the final count\n",
    "}\n",
    "\n",
    "// Call the function and display the output\n",
    "countEvenNumbers(randomNumbers);\n"
   ]
  }
 ],
 "metadata": {
  "kernelspec": {
   "display_name": "venv",
   "language": "python",
   "name": "python3"
  },
  "language_info": {
   "codemirror_mode": {
    "name": "ipython",
    "version": 3
   },
   "file_extension": ".py",
   "mimetype": "text/x-python",
   "name": "python",
   "nbconvert_exporter": "python",
   "pygments_lexer": "ipython3",
   "version": "3.12.5"
  }
 },
 "nbformat": 4,
 "nbformat_minor": 2
}
