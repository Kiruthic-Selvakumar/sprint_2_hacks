{
 "cells": [
  {
   "cell_type": "raw",
   "metadata": {
    "vscode": {
     "languageId": "raw"
    }
   },
   "source": [
    "---\n",
    "layout: post\n",
    "title: 3.7 Homework and Popcorn Hacks\n",
    "description:  3.7 Homework and Popcorn Hacks\n",
    "type: issues\n",
    "comments: true\n",
    "---"
   ]
  },
  {
   "cell_type": "markdown",
   "metadata": {},
   "source": [
    "# Popcorn Hack #1"
   ]
  },
  {
   "cell_type": "code",
   "execution_count": 5,
   "metadata": {},
   "outputs": [
    {
     "name": "stdout",
     "output_type": "stream",
     "text": [
      "The weather is sunny\n",
      "Your transportation is available\n",
      "Your boots are present\n",
      "Your hike is 5 miles long\n",
      "You can pack a snack.\n",
      "You are ready to go hiking!\n"
     ]
    }
   ],
   "source": [
    "# define variables for weather, transportation, boots, and miles_in_hike\n",
    "weather = \"sunny\"\n",
    "transportation = \"available\"\n",
    "boots = \"present\"\n",
    "miles_in_hike = 5\n",
    "\n",
    "# print the variables\n",
    "print(\"The weather is \" + weather)\n",
    "print(\"Your transportation is \" + transportation)\n",
    "print(\"Your boots are \" + boots)\n",
    "print(f\"Your hike is {miles_in_hike} miles long\")\n",
    "\n",
    "# use nested if and else statements to determine if you can go hiking\n",
    "if weather == \"sunny\":\n",
    "    if transportation == \"available\":\n",
    "        if boots == \"present\":\n",
    "            # use a nested if statement to determine if you need a snack or lunch\n",
    "            if miles_in_hike > 10:\n",
    "                print(\"You might want to pack a lunch.\")\n",
    "            else:\n",
    "                print(\"You can pack a snack.\")\n",
    "            print(\"You are ready to go hiking!\")\n",
    "        else:\n",
    "            print(\"You need to find your boots first.\")       \n",
    "    else:\n",
    "        print(\"You need to arrange transportation.\")\n",
    "else:\n",
    "    print(\"It's not good weather for hiking.\")"
   ]
  },
  {
   "cell_type": "markdown",
   "metadata": {},
   "source": [
    "# Popcorn Hack #2"
   ]
  },
  {
   "cell_type": "code",
   "execution_count": 1,
   "metadata": {
    "vscode": {
     "languageId": "javascript"
    }
   },
   "outputs": [
    {
     "data": {
      "application/javascript": "// define variables for weather, transportation, boots, and miles in hike\nlet weather = \"sunny\";\nlet transportation = \"available\";\nlet boots = \"present\";\nlet miles_in_hike = 5;\n\n// print the variables\nconsole.log(\"The weather is \" + weather);\nconsole.log(\"Your transportation is \" + transportation);\nconsole.log(\"Your boots are \" + boots);\nconsole.log(\"Your hike is \" + miles_in_hike + \" miles long\");\n\n// use nested if and else statements to determine if you can go hiking\nif (weather === \"sunny\") {\n    if (transportation === \"available\") {\n        if (boots === \"present\") {\n            console.log(\"You are ready to go hiking!\");\n            // use a nested if and else statement to determine if you are going on a long or short hike\n            if (miles_in_hike > 5) {\n                console.log(\"You are going to have a long hike.\");\n            }\n            else {\n                console.log(\"You are going to have a short hike.\");\n            }\n        } else {\n            console.log(\"You need to find your boots first.\");\n        }\n    } else {\n        console.log(\"You need to arrange transportation.\");\n    }\n}   else {\n    console.log(\"It's not good weather for hiking.\");\n}\n",
      "text/plain": [
       "<IPython.core.display.Javascript object>"
      ]
     },
     "metadata": {},
     "output_type": "display_data"
    }
   ],
   "source": [
    "%%js\n",
    "// define variables for weather, transportation, boots, and miles in hike\n",
    "let weather = \"sunny\";\n",
    "let transportation = \"available\";\n",
    "let boots = \"present\";\n",
    "let miles_in_hike = 5;\n",
    "\n",
    "// print the variables\n",
    "console.log(\"The weather is \" + weather);\n",
    "console.log(\"Your transportation is \" + transportation);\n",
    "console.log(\"Your boots are \" + boots);\n",
    "console.log(\"Your hike is \" + miles_in_hike + \" miles long\");\n",
    "\n",
    "// use nested if and else statements to determine if you can go hiking\n",
    "if (weather === \"sunny\") {\n",
    "    if (transportation === \"available\") {\n",
    "        if (boots === \"present\") {\n",
    "            console.log(\"You are ready to go hiking!\");\n",
    "            // use a nested if and else statement to determine if you are going on a long or short hike\n",
    "            if (miles_in_hike > 5) {\n",
    "                console.log(\"You are going to have a long hike.\");\n",
    "            }\n",
    "            else {\n",
    "                console.log(\"You are going to have a short hike.\");\n",
    "            }\n",
    "        } else {\n",
    "            console.log(\"You need to find your boots first.\");\n",
    "        }\n",
    "    } else {\n",
    "        console.log(\"You need to arrange transportation.\");\n",
    "    }\n",
    "}   else {\n",
    "    console.log(\"It's not good weather for hiking.\");\n",
    "}"
   ]
  },
  {
   "cell_type": "markdown",
   "metadata": {},
   "source": [
    "# Homework Hack #1"
   ]
  },
  {
   "cell_type": "markdown",
   "metadata": {},
   "source": [
    "<pre>\n",
    "Define the weather \n",
    "Define has_sunscreen\n",
    "Define have_snacks\n",
    "\n",
    "Make a function that takes variables as parameters\n",
    "    If it is not sunny\n",
    "        It's not a good day for the beach\n",
    "    otherwise if you don't have snacks\n",
    "        You should get snacks first\n",
    "    Otherwise if you dont have sunscreen \n",
    "        You should buy sunscreen\n",
    "    Otherwise\n",
    "        You are ready for the beach\n",
    "\n",
    "Call the function\n",
    "</pre>"
   ]
  },
  {
   "cell_type": "markdown",
   "metadata": {},
   "source": [
    "# Homework Hack #2"
   ]
  },
  {
   "cell_type": "code",
   "execution_count": 2,
   "metadata": {
    "vscode": {
     "languageId": "javascript"
    }
   },
   "outputs": [
    {
     "data": {
      "application/javascript": "let age = 18;\nlet spaceInHouse = 50;\nlet availabletoTakeCare = true;\n\nif (age >= 18 && spaceInHouse > 50 && availabletoTakeCare) {\n    console.log(\"You can adopt a pet\");\n}\nelse if (spaceInHouse <= 50){\n    console.log(\"You need a bigger home\")\n}\nelse if (availabletoTakeCare === false) {\n    console.log(\"You need to make time\")\n}\nelse if (age < 18) {\n    console.log(\"You must be at least 18 to adopt a pet\")\n}\n",
      "text/plain": [
       "<IPython.core.display.Javascript object>"
      ]
     },
     "metadata": {},
     "output_type": "display_data"
    }
   ],
   "source": [
    "%%js\n",
    "let age = 18;\n",
    "let spaceInHouse = 50;\n",
    "let availabletoTakeCare = true;\n",
    "\n",
    "if (age >= 18 && spaceInHouse > 50 && availabletoTakeCare) {\n",
    "    console.log(\"You can adopt a pet\");\n",
    "}\n",
    "else if (spaceInHouse <= 50){\n",
    "    console.log(\"You need a bigger home\")\n",
    "}\n",
    "else if (availabletoTakeCare === false) {\n",
    "    console.log(\"You need to make time\")\n",
    "}\n",
    "else if (age < 18) {\n",
    "    console.log(\"You must be at least 18 to adopt a pet\")\n",
    "}\n"
   ]
  },
  {
   "cell_type": "markdown",
   "metadata": {},
   "source": [
    "# Homework Hack #3"
   ]
  },
  {
   "cell_type": "code",
   "execution_count": 3,
   "metadata": {
    "vscode": {
     "languageId": "javascript"
    }
   },
   "outputs": [
    {
     "data": {
      "application/javascript": "let isWeatherClear = true;\nlet hasRunningShoes = true;\nlet daysOfPractice = 20;\n\nif (isWeatherClear && hasRunningShoes && daysOfPractice >= 10) {\n    console.log(\"You are ready for the marathon\");\n}\nelse if (hasRunningShoes === false){\n    console.log(\"You need to buy shoes first\")\n}\nelse if (daysOfpractice < 10) {\n    console.log(\"You need to practice more\")\n}\nelse if (isWeatherClear === false) {\n    console.log(\"It is not the right time for the marathon\")\n}\n",
      "text/plain": [
       "<IPython.core.display.Javascript object>"
      ]
     },
     "metadata": {},
     "output_type": "display_data"
    }
   ],
   "source": [
    "%%js\n",
    "let isWeatherClear = true;\n",
    "let hasRunningShoes = true;\n",
    "let daysOfPractice = 20;\n",
    "\n",
    "if (isWeatherClear && hasRunningShoes && daysOfPractice >= 10) {\n",
    "    console.log(\"You are ready for the marathon\");\n",
    "}\n",
    "else if (hasRunningShoes === false){\n",
    "    console.log(\"You need to buy shoes first\")\n",
    "}\n",
    "else if (daysOfpractice < 10) {\n",
    "    console.log(\"You need to practice more\")\n",
    "}\n",
    "else if (isWeatherClear === false) {\n",
    "    console.log(\"It is not the right time for the marathon\")\n",
    "}"
   ]
  },
  {
   "cell_type": "markdown",
   "metadata": {},
   "source": [
    "# Homework Hack #1"
   ]
  },
  {
   "cell_type": "markdown",
   "metadata": {
    "vscode": {
     "languageId": "javascript"
    }
   },
   "source": [
    "<pre>\n",
    "Define whether you have study materials\n",
    "Define whether you have a quiet place to study\n",
    "Define whether you are tired\n",
    "\n",
    "\n",
    "If you have study mataterials, a quiet place to study, and are not tired\n",
    "    You are ready to study\n",
    "otherwise if you don't have a quiet place\n",
    "    Find a quiet location\n",
    "Otherwise if you are tired\n",
    "    Take a nap\n",
    "Otherwise if you do not have study materials\n",
    "    Gather study matierals\n",
    "</pre>"
   ]
  },
  {
   "cell_type": "markdown",
   "metadata": {},
   "source": [
    "# Homework Hack #2"
   ]
  },
  {
   "cell_type": "code",
   "execution_count": 4,
   "metadata": {
    "vscode": {
     "languageId": "javascript"
    }
   },
   "outputs": [
    {
     "data": {
      "application/javascript": "let hasFlour = true;\nlet hasEggs = true;\nlet hasSugar = true;\nlet ovenWorking = true;\nlet timetoBake = 3;\n\nif (hasFlour && hasEggs && hasSugar && ovenWorking && timetoBake) {\n    console.log(\"You can start baking\");\n}\nelse if (timetoBake < 2) {\n    console.log(\"Find more time to bake\")\n}\nelse if (ovenWorking === false) {\n    console.log(\"Fix oven\")\n}\nelse if (hasFlour === false){\n    console.log(\"You are missing flour\")\n}\nelse if (hasEggs === false){\n    console.log(\"You are missing eggs\")\n}\nelse if (hasSugar === false){\n    console.log(\"You are missing sugar\")\n}\n",
      "text/plain": [
       "<IPython.core.display.Javascript object>"
      ]
     },
     "metadata": {},
     "output_type": "display_data"
    }
   ],
   "source": [
    "%%js\n",
    "let hasFlour = true;\n",
    "let hasEggs = true;\n",
    "let hasSugar = true;\n",
    "let ovenWorking = true;\n",
    "let timetoBake = 3;\n",
    "\n",
    "if (hasFlour && hasEggs && hasSugar && ovenWorking && timetoBake) {\n",
    "    console.log(\"You can start baking\");\n",
    "}\n",
    "else if (timetoBake < 2) {\n",
    "    console.log(\"Find more time to bake\")\n",
    "}\n",
    "else if (ovenWorking === false) {\n",
    "    console.log(\"Fix oven\")\n",
    "}\n",
    "else if (hasFlour === false){\n",
    "    console.log(\"You are missing flour\")\n",
    "}\n",
    "else if (hasEggs === false){\n",
    "    console.log(\"You are missing eggs\")\n",
    "}\n",
    "else if (hasSugar === false){\n",
    "    console.log(\"You are missing sugar\")\n",
    "}"
   ]
  },
  {
   "cell_type": "markdown",
   "metadata": {},
   "source": [
    "# Homework Hack #3"
   ]
  },
  {
   "cell_type": "code",
   "execution_count": 5,
   "metadata": {
    "vscode": {
     "languageId": "javascript"
    }
   },
   "outputs": [
    {
     "data": {
      "application/javascript": "let weatherClear = true;\nlet hasTent = true;\nlet hasFoodWater = true;\n\nif (weatherClear && hasTent && hasFoodWater) {\n    console.log(\"You are ready to go camping\");\n}\nelse if (hasTent === false) {\n    console.log(\"You need to buy or borrow tent\")\n}\nelse if (hasFoodWater === false) {\n    console.log(\"You need to pack more food and water\")\n}\nelse if (weatherClear === false){\n    console.log(\"It is not a good time for camping\")\n}\n",
      "text/plain": [
       "<IPython.core.display.Javascript object>"
      ]
     },
     "metadata": {},
     "output_type": "display_data"
    }
   ],
   "source": [
    "%%js\n",
    "let weatherClear = true;\n",
    "let hasTent = true;\n",
    "let hasFoodWater = true;\n",
    "\n",
    "if (weatherClear && hasTent && hasFoodWater) {\n",
    "    console.log(\"You are ready to go camping\");\n",
    "}\n",
    "else if (hasTent === false) {\n",
    "    console.log(\"You need to buy or borrow tent\")\n",
    "}\n",
    "else if (hasFoodWater === false) {\n",
    "    console.log(\"You need to pack more food and water\")\n",
    "}\n",
    "else if (weatherClear === false){\n",
    "    console.log(\"It is not a good time for camping\")\n",
    "}"
   ]
  }
 ],
 "metadata": {
  "kernelspec": {
   "display_name": "venv",
   "language": "python",
   "name": "python3"
  },
  "language_info": {
   "codemirror_mode": {
    "name": "ipython",
    "version": 3
   },
   "file_extension": ".py",
   "mimetype": "text/x-python",
   "name": "python",
   "nbconvert_exporter": "python",
   "pygments_lexer": "ipython3",
   "version": "3.12.5"
  }
 },
 "nbformat": 4,
 "nbformat_minor": 2
}
