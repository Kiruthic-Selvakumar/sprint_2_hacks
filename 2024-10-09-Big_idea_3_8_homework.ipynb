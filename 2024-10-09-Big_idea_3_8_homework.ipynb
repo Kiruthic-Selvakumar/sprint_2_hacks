{
 "cells": [
  {
   "cell_type": "raw",
   "metadata": {
    "vscode": {
     "languageId": "raw"
    }
   },
   "source": [
    "---\n",
    "layout: post\n",
    "title: 3.8 Homework and Popcorn Hacks\n",
    "description:  3.8 Homework and Popcorn Hacks\n",
    "type: issues\n",
    "comments: true\n",
    "---"
   ]
  },
  {
   "cell_type": "markdown",
   "metadata": {},
   "source": [
    "# Popcorn Hack #1"
   ]
  },
  {
   "cell_type": "code",
   "execution_count": 1,
   "metadata": {},
   "outputs": [
    {
     "name": "stdout",
     "output_type": "stream",
     "text": [
      "Hello\n",
      "Hello\n",
      "Hello\n",
      "Hello\n",
      "Hello\n"
     ]
    }
   ],
   "source": [
    "#defining a counter variable that starts at 0\n",
    "count_number = 0\n",
    "\n",
    "#Use a while loop that runs until the counter variable is less than 5\n",
    "while count_number < 5:\n",
    "    #print hello every time the loop runs\n",
    "    print(\"Hello\")\n",
    "\n",
    "    #increment the counter variable by 1\n",
    "    count_number +=1"
   ]
  },
  {
   "cell_type": "markdown",
   "metadata": {},
   "source": [
    "# Popcorn Hack #2"
   ]
  },
  {
   "cell_type": "code",
   "execution_count": 1,
   "metadata": {},
   "outputs": [
    {
     "name": "stdout",
     "output_type": "stream",
     "text": [
      "Kiruthic\n",
      "I dont have a middle name\n",
      "I dont have a middle name\n",
      "Selvakumar\n",
      "Selvakumar\n",
      "Selvakumar\n",
      "Kiruthic\n",
      "I dont have a middle name\n",
      "I dont have a middle name\n",
      "Selvakumar\n",
      "Selvakumar\n",
      "Selvakumar\n",
      "Kiruthic\n",
      "I dont have a middle name\n",
      "I dont have a middle name\n",
      "Selvakumar\n",
      "Selvakumar\n",
      "Selvakumar\n",
      "Kiruthic\n",
      "I dont have a middle name\n",
      "I dont have a middle name\n",
      "Selvakumar\n",
      "Selvakumar\n",
      "Selvakumar\n"
     ]
    }
   ],
   "source": [
    "# make a for loop that repeats the whole thing 4 times\n",
    "for i in range(4):\n",
    "\n",
    "    #print my first name once\n",
    "    print(\"Kiruthic\")\n",
    "\n",
    "    #print my nonexistent middle name twice\n",
    "    for i in range(2): \n",
    "        print(\"I dont have a middle name\")\n",
    "\n",
    "    #print my last name thrice\n",
    "    for i in range(3):\n",
    "        print(\"Selvakumar\")"
   ]
  },
  {
   "cell_type": "markdown",
   "metadata": {},
   "source": [
    "# Popcorn Hack #3"
   ]
  },
  {
   "cell_type": "code",
   "execution_count": 2,
   "metadata": {},
   "outputs": [
    {
     "name": "stdout",
     "output_type": "stream",
     "text": [
      "K\n",
      "i\n",
      "r\n",
      "u\n",
      "t\n",
      "h\n",
      "i\n",
      "c\n"
     ]
    }
   ],
   "source": [
    "# define my name as a variable\n",
    "name = \"Kiruthic\"\n",
    "\n",
    "# use a for loop that iterates through each letter in my name\n",
    "for i in range(len(name)):\n",
    "    \n",
    "    #print each letter in my name\n",
    "    print(name[i])"
   ]
  },
  {
   "cell_type": "markdown",
   "metadata": {},
   "source": [
    "# Popcorn Hack #4"
   ]
  },
  {
   "cell_type": "code",
   "execution_count": 4,
   "metadata": {},
   "outputs": [
    {
     "name": "stdout",
     "output_type": "stream",
     "text": [
      "The mango is ranked #1 in fruit popularity!\n",
      "The orange is ranked #2 in fruit popularity!\n",
      "The strawberry is ranked #3 in fruit popularity!\n",
      "The peach is ranked #4 in fruit popularity!\n"
     ]
    }
   ],
   "source": [
    "# define a dictionary of fruit rankings\n",
    "fruit_ranking = {\n",
    "    \"mango\": 1,\n",
    "    \"orange\": 2,\n",
    "    \"strawberry\": 3,\n",
    "    \"peach\": 4\n",
    "}\n",
    "\n",
    "# Iterate through the dictionary items\n",
    "for fruit, rank in fruit_ranking.items():\n",
    "    print(f\"The {fruit} is ranked #{rank} in fruit popularity!\")\n"
   ]
  },
  {
   "cell_type": "markdown",
   "metadata": {},
   "source": [
    "# Homework Hack #1"
   ]
  },
  {
   "cell_type": "code",
   "execution_count": 8,
   "metadata": {},
   "outputs": [
    {
     "name": "stdout",
     "output_type": "stream",
     "text": [
      "Password is correct\n"
     ]
    }
   ],
   "source": [
    "# defines that the password is not correct\n",
    "password_correct = False\n",
    "\n",
    "# use a while loop that runs until the password is correct\n",
    "while password_correct == False:\n",
    "\n",
    "    # ask the user for the password\n",
    "    password = input(\"Enter the password: \")\n",
    "\n",
    "    # check if the password is correct\n",
    "    if password == \"helloworld\":\n",
    "\n",
    "        # if the password is correct, print that the password is correct\n",
    "        print(\"Password is correct\")\n",
    "        password_correct = True\n",
    "    else:\n",
    "\n",
    "        # if the password is incorrect, print that the password is incorrect\n",
    "        print(\"Password is incorrect\")"
   ]
  },
  {
   "cell_type": "markdown",
   "metadata": {},
   "source": [
    "# Homework Hack #2"
   ]
  },
  {
   "cell_type": "code",
   "execution_count": 10,
   "metadata": {},
   "outputs": [
    {
     "name": "stdout",
     "output_type": "stream",
     "text": [
      "K\n",
      "i\n",
      "r\n",
      "u\n",
      "t\n",
      "h\n",
      "i\n",
      "c\n"
     ]
    }
   ],
   "source": [
    "# take name as inpu\n",
    "name = input(\"Enter your name: \")\n",
    "\n",
    "# use a for loop that iterates through each letter in my name\n",
    "for i in range(len(name)):\n",
    "    \n",
    "    #print each letter in my name\n",
    "    print(name[i])"
   ]
  },
  {
   "cell_type": "markdown",
   "metadata": {},
   "source": [
    "# Homework Hack #3"
   ]
  },
  {
   "cell_type": "code",
   "execution_count": 11,
   "metadata": {},
   "outputs": [
    {
     "name": "stdout",
     "output_type": "stream",
     "text": [
      "mango\n",
      "orange\n",
      "strawberry\n",
      "peach\n",
      "banana\n",
      "apple\n",
      "grape\n",
      "kiwi\n"
     ]
    }
   ],
   "source": [
    "# define a list of fruits\n",
    "fruits = [\"mango\", \"orange\", \"strawberry\", \"peach\", \"banana\", \"apple\", \"grape\", \"kiwi\"]\n",
    "\n",
    "# use a for loop that iterates through each fruit in the list\n",
    "for i in range(len(fruits)):\n",
    "    \n",
    "    #print each fruit in the list\n",
    "    print(fruits[i])"
   ]
  }
 ],
 "metadata": {
  "kernelspec": {
   "display_name": "venv",
   "language": "python",
   "name": "python3"
  },
  "language_info": {
   "codemirror_mode": {
    "name": "ipython",
    "version": 3
   },
   "file_extension": ".py",
   "mimetype": "text/x-python",
   "name": "python",
   "nbconvert_exporter": "python",
   "pygments_lexer": "ipython3",
   "version": "3.12.5"
  }
 },
 "nbformat": 4,
 "nbformat_minor": 2
}
